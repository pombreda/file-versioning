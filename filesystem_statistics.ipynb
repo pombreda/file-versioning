{
 "metadata": {
  "name": ""
 },
 "nbformat": 3,
 "nbformat_minor": 0,
 "worksheets": [
  {
   "cells": [
    {
     "cell_type": "code",
     "collapsed": false,
     "input": [
      "import os\n",
      "import random\n",
      "import shutil\n",
      "import string\n",
      "import tempfile\n",
      "\n",
      "from versioning_fs import VersioningFS, VersionManager\n",
      "\n",
      "KB = 1024\n",
      "MB = pow(1024, 2)\n",
      "GB = pow(1024, 3)\n",
      "\n",
      "\n",
      "PATHS = {'BACKUPS': 'backups',\n",
      "         'USER_FILES': 'userfiles',\n",
      "         'TEMP': 'tmp'}\n",
      "\n",
      "class Paths(dict):\n",
      "    def __init__(self, base_dir):\n",
      "        self.__base_dir = base_dir\n",
      "        self.__paths = PATHS\n",
      "\n",
      "    def __getattr__(self, attr):\n",
      "        path = self.__paths[attr]\n",
      "        abs_path = os.path.join(self.__base_dir, path)\n",
      "        return abs_path\n",
      "\n",
      "    def iterkeys(self):\n",
      "        return self.__paths.iterkeys()\n",
      "\n",
      "    def itervalues(self):\n",
      "        return [self.__getattr__(n) for n in self.__paths.iterkeys()]\n",
      "\n",
      "    def __repr__(self):\n",
      "        return repr({n: self.__getattr__(n) for n in self.iterkeys()})\n",
      "\n",
      "\n",
      "class DictVersionManager(VersionManager):\n",
      "    def __init__(self):\n",
      "        super(DictVersionManager, self).__init__()\n",
      "        self.__files = {}\n",
      "\n",
      "    def has_snapshot(self, path):\n",
      "        if self.__files.get(path) is not None:\n",
      "            return True\n",
      "        return False\n",
      "\n",
      "    def version(self, path):\n",
      "        version = self.__files.get(path)\n",
      "        return version\n",
      "\n",
      "    def set_version(self, path, version):\n",
      "        self.__files[path] = version\n",
      "\n",
      "    def remove(self, path):\n",
      "        if path in self.__files:\n",
      "            self.__files.pop(path, None)\n",
      "            \n",
      "def get_dir_size(path):\n",
      "    bytes = 0\n",
      "    for root, dirs, filenames in os.walk(path):\n",
      "        for name in filenames:\n",
      "            abs_path = os.path.join(root, name)\n",
      "            bytes += os.path.getsize(abs_path)\n",
      "    return bytes\n",
      "\n",
      "\n",
      "def random_filename(size=20):\n",
      "    chars = string.ascii_uppercase + string.digits\n",
      "    return ''.join(random.choice(chars) for _ in range(size))\n",
      "\n",
      "\n",
      "class BaseTestFS(object):\n",
      "    def __init__(self, fs):\n",
      "        temp_dir = tempfile.mkdtemp()\n",
      "        self.paths = Paths(temp_dir)\n",
      "        for folder in self.paths.itervalues():\n",
      "            if not os.path.exists(folder):\n",
      "                os.makedirs(folder)\n",
      "\n",
      "        manager = DictVersionManager()        \n",
      "        self.fs = VersioningFS(manager, self.paths.USER_FILES,\n",
      "                               self.paths.BACKUPS, self.paths.TEMP)\n",
      "\n",
      "    def __del__(self):\n",
      "        for folder in self.paths.itervalues():\n",
      "            if os.path.exists(folder):\n",
      "                shutil.rmtree(folder)\n",
      "        \n",
      "\n",
      "class TestFS(BaseTestFS):\n",
      "    def __init__(self, *args, **kwargs):\n",
      "        super(TestFS, self).__init__(*args, **kwargs)\n",
      "\n",
      "    @property\n",
      "    def total_usage(self):\n",
      "        all_counters = [self.backups_usage, self.user_usage]\n",
      "        bytes = 0\n",
      "        for counter in all_counters:\n",
      "            bytes += counter\n",
      "            \n",
      "        return bytes\n",
      "    \n",
      "    @property\n",
      "    def backups_usage(self):\n",
      "        return get_dir_size(self.paths.BACKUPS)\n",
      "    \n",
      "    @property\n",
      "    def user_usage(self):\n",
      "        return get_dir_size(self.paths.USER_FILES)\n",
      "        \n",
      "        \n",
      "disk_usage = TestFS(fs=VersioningFS)"
     ],
     "language": "python",
     "metadata": {},
     "outputs": [],
     "prompt_number": 233
    },
    {
     "cell_type": "code",
     "collapsed": false,
     "input": [
      "from random import randint\n",
      "from StringIO import StringIO\n",
      "\n",
      "def random_create(original_contents, amount=1):\n",
      "    contents = StringIO(original_contents)\n",
      "    lorem = open(\"benchmarking/loremipsum.txt\", 'rb').read()\n",
      "    \n",
      "    for _ in range(amount):\n",
      "        contents.seek(0)\n",
      "        seek_to = randint(0, len(contents.read()))\n",
      "        contents.seek(seek_to)\n",
      "        contents.write(lorem)\n",
      "        contents.seek(0)\n",
      "    \n",
      "    return contents.read()\n",
      "\n",
      "\n",
      "def random_delete(original_contents, amount=1):\n",
      "    contents = StringIO(original_contents)\n",
      "    \n",
      "    for _ in range(amount):\n",
      "        start = randint(0, len(contents.read()))\n",
      "        contents.seek(0)\n",
      "        end = randint(start, len(contents.read()))\n",
      "        contents.seek(0)\n",
      "        new_contents = contents.read()[start:end]\n",
      "        contents = StringIO(new_contents)\n",
      "    \n",
      "    return contents.read()\n",
      "\n",
      "\n",
      "def random_append(original_contents, amount=1):\n",
      "    contents = StringIO(original_contents)\n",
      "    lorem = open(\"benchmarking/loremipsum.txt\", 'rb').read()\n",
      "    \n",
      "    for _ in range(amount):\n",
      "        seek_to = len(contents.read())\n",
      "        contents.seek(seek_to)\n",
      "        contents.write(lorem)\n",
      "        contents.seek(0)\n",
      "    \n",
      "    return contents.read()\n",
      "\n",
      "\n",
      "def run_modifier(filename, creates, deletes, appends):\n",
      "    \n",
      "    f = disk_usage.fs.open(filename, 'rb')\n",
      "    results = f.read()\n",
      "    f.close()\n",
      "\n",
      "    results = \"\"\n",
      "    for _ in range(creates):\n",
      "        results = random_create(results)\n",
      "    for _ in range(deletes):\n",
      "        results = random_delete(results)\n",
      "    for _ in range(appends):\n",
      "        results = random_append(results)\n",
      "\n",
      "    return results\n",
      "\n",
      "\n",
      "import time\n",
      "\n",
      "def run(creates, deletes, appends, files=1, iterations=1):\n",
      "    x = [random_filename() for x in range(files)]\n",
      "    for z in range(iterations):\n",
      "        for name in x:\n",
      "            path = os.path.join(disk_usage.paths.USER_FILES, name)\n",
      "            if not os.path.exists(path):\n",
      "                f = disk_usage.fs.open(name, 'wb')\n",
      "                f.write('')\n",
      "                f.close()\n",
      "                time.sleep(1)\n",
      "    \n",
      "            new_contents = run_modifier(name, creates=6, deletes=0, appends=96)\n",
      "            f = disk_usage.fs.open(name, 'wb')\n",
      "            f.write(new_contents)\n",
      "            f.close()\n",
      "            if name == x[0]:\n",
      "                print name, z, os.path.getsize(path)\n",
      "        time.sleep(1)\n",
      "            \n",
      "\n",
      "run(creates=6, deletes=4, appends=96, files=10, iterations=10)\n",
      "print(\"Test completed.\")"
     ],
     "language": "python",
     "metadata": {},
     "outputs": [
      {
       "output_type": "stream",
       "stream": "stdout",
       "text": [
        "9R3MBCO076G7IFXBLQM4 0 359597\n",
        "9R3MBCO076G7IFXBLQM4"
       ]
      },
      {
       "output_type": "stream",
       "stream": "stdout",
       "text": [
        " 1 357666\n",
        "9R3MBCO076G7IFXBLQM4"
       ]
      },
      {
       "output_type": "stream",
       "stream": "stdout",
       "text": [
        " 2 354799\n",
        "9R3MBCO076G7IFXBLQM4"
       ]
      },
      {
       "output_type": "stream",
       "stream": "stdout",
       "text": [
        " 3 352962\n",
        "9R3MBCO076G7IFXBLQM4"
       ]
      },
      {
       "output_type": "stream",
       "stream": "stdout",
       "text": [
        " 4 356031\n",
        "9R3MBCO076G7IFXBLQM4"
       ]
      },
      {
       "output_type": "stream",
       "stream": "stdout",
       "text": [
        " 5 358194\n",
        "9R3MBCO076G7IFXBLQM4"
       ]
      },
      {
       "output_type": "stream",
       "stream": "stdout",
       "text": [
        " 6 354219\n",
        "9R3MBCO076G7IFXBLQM4"
       ]
      },
      {
       "output_type": "stream",
       "stream": "stdout",
       "text": [
        " 7 352275\n",
        "9R3MBCO076G7IFXBLQM4"
       ]
      },
      {
       "output_type": "stream",
       "stream": "stdout",
       "text": [
        " 8 358550\n",
        "9R3MBCO076G7IFXBLQM4"
       ]
      },
      {
       "output_type": "stream",
       "stream": "stdout",
       "text": [
        " 9 357503\n",
        "Test completed."
       ]
      },
      {
       "output_type": "stream",
       "stream": "stdout",
       "text": [
        "\n"
       ]
      }
     ],
     "prompt_number": 258
    },
    {
     "cell_type": "code",
     "collapsed": false,
     "input": [
      "import matplotlib.pyplot as plt\n",
      "import numpy as np\n",
      "\n",
      "fig, ax = plt.subplots(figsize=(12,6))\n",
      "\n",
      "test_size = 100\n",
      "\n",
      "x = [z for z in range(test_size)]\n",
      "y1 = [pow(z, 2.7) for z in range(test_size)]\n",
      "y2 = [pow(z, 3) for z in range(test_size)]\n",
      "\n",
      "#plt.ylim(0, 10000)\n",
      "\n",
      "ax.plot(x, y1, '-b', label='Rsync Filesystem', linewidth=2)\n",
      "ax.plot(x, y2, '-r', label='Backup Filesystem', linewidth=2)\n",
      "\n",
      "ax.legend(loc='upper right')\n",
      "ax.set_title('Filesystem comparison', fontsize=24)\n",
      "\n",
      "plt.xlabel('Number of Changes', fontsize=12)\n",
      "plt.ylabel('Space Used (MB)', fontsize= 12)\n",
      "plt.show()"
     ],
     "language": "python",
     "metadata": {},
     "outputs": [
      {
       "metadata": {},
       "output_type": "display_data",
       "png": "[encoded data removed]",
       "text": [
        "<matplotlib.figure.Figure at 0x7fcc4d56a0d0>"
       ]
      }
     ],
     "prompt_number": 236
    },
    {
     "cell_type": "code",
     "collapsed": false,
     "input": [],
     "language": "python",
     "metadata": {},
     "outputs": [],
     "prompt_number": 71
    },
    {
     "cell_type": "code",
     "collapsed": false,
     "input": [],
     "language": "python",
     "metadata": {},
     "outputs": []
    }
   ],
   "metadata": {}
  }
 ]
}